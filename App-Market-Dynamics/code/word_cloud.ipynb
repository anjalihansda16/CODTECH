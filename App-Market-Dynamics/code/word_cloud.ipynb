{
 "cells": [
  {
   "cell_type": "code",
   "execution_count": 1,
   "id": "047b0625-c369-45b8-a2b6-2eec6dfef376",
   "metadata": {},
   "outputs": [],
   "source": [
    "import pandas as pd\n",
    "from collections import Counter\n",
    "import re\n",
    "import nltk\n",
    "from nltk.corpus import stopwords\n",
    "from spellchecker import SpellChecker\n",
    "import wordninja"
   ]
  },
  {
   "cell_type": "code",
   "execution_count": 2,
   "id": "89fc7ed7-3d18-40ab-b711-2f5e661a0bea",
   "metadata": {},
   "outputs": [
    {
     "name": "stderr",
     "output_type": "stream",
     "text": [
      "[nltk_data] Downloading package stopwords to\n",
      "[nltk_data]     C:\\Users\\ANJALI\\AppData\\Roaming\\nltk_data...\n",
      "[nltk_data]   Package stopwords is already up-to-date!\n"
     ]
    },
    {
     "data": {
      "text/plain": [
       "True"
      ]
     },
     "execution_count": 2,
     "metadata": {},
     "output_type": "execute_result"
    }
   ],
   "source": [
    "nltk.download('stopwords')"
   ]
  },
  {
   "cell_type": "code",
   "execution_count": 21,
   "id": "2c614176-0c1e-4546-bd2c-fb91e1ed7430",
   "metadata": {},
   "outputs": [],
   "source": [
    "stop_words = set(stopwords.words('english'))"
   ]
  },
  {
   "cell_type": "code",
   "execution_count": 23,
   "id": "3c6d7fee-78c9-451e-a770-3810d5de7c03",
   "metadata": {},
   "outputs": [],
   "source": [
    "spell = SpellChecker()"
   ]
  },
  {
   "cell_type": "code",
   "execution_count": 25,
   "id": "28cb5e26-c39b-47ea-b60c-990707cd71a6",
   "metadata": {},
   "outputs": [],
   "source": [
    "df = pd.read_csv(\"user_review_final_df.csv\")"
   ]
  },
  {
   "cell_type": "code",
   "execution_count": 27,
   "id": "8955cac6-6183-45cb-bc2e-e16937d8e303",
   "metadata": {},
   "outputs": [
    {
     "data": {
      "text/plain": [
       "Unique ID                 0\n",
       "App                       0\n",
       "Translated Review         0\n",
       "Sentiment                 0\n",
       "Sentiment Polarity        0\n",
       "Sentiment Subjectivity    0\n",
       "dtype: int64"
      ]
     },
     "execution_count": 27,
     "metadata": {},
     "output_type": "execute_result"
    }
   ],
   "source": [
    "df.isna().sum()"
   ]
  },
  {
   "cell_type": "code",
   "execution_count": 29,
   "id": "e0f6416d-9692-470a-8bbb-b19ee6d8293a",
   "metadata": {},
   "outputs": [],
   "source": [
    "def clean_and_tokenize(text):\n",
    "    text = re.sub(r'[^a-zA-Z\\s]', '', text)\n",
    "    text = text.lower()\n",
    "    split_words = wordninja.split(text)\n",
    "    tokens = [word for word in split_words if word not in stop_words]\n",
    "    tokens = [spell.correction(word) for word in tokens]\n",
    "    return tokens"
   ]
  },
  {
   "cell_type": "code",
   "execution_count": 31,
   "id": "ccefc33f-c60d-4190-918f-bb3c86310c99",
   "metadata": {},
   "outputs": [],
   "source": [
    "word_freq_data = []"
   ]
  },
  {
   "cell_type": "code",
   "execution_count": 33,
   "id": "c95dcabf-951b-4bfa-ae80-12f913354d4e",
   "metadata": {},
   "outputs": [],
   "source": [
    "for app, reviews in df.groupby('App')['Translated Review']:\n",
    "    combined_reviews = \" \".join(reviews)\n",
    "    tokens = clean_and_tokenize(combined_reviews)\n",
    "    word_counts = Counter(tokens)\n",
    "    for word, count in word_counts.items():\n",
    "        word_freq_data.append({'App': app, 'Word': word, 'Frequency': count})"
   ]
  },
  {
   "cell_type": "code",
   "execution_count": 37,
   "id": "853551a5-76e4-45f6-8185-b642030621ff",
   "metadata": {},
   "outputs": [],
   "source": [
    "word_freq_df = pd.DataFrame(word_freq_data)"
   ]
  },
  {
   "cell_type": "code",
   "execution_count": 39,
   "id": "3e3aa3a9-5b20-4eda-a9d0-9a37267c1d83",
   "metadata": {},
   "outputs": [
    {
     "data": {
      "text/html": [
       "<div>\n",
       "<style scoped>\n",
       "    .dataframe tbody tr th:only-of-type {\n",
       "        vertical-align: middle;\n",
       "    }\n",
       "\n",
       "    .dataframe tbody tr th {\n",
       "        vertical-align: top;\n",
       "    }\n",
       "\n",
       "    .dataframe thead th {\n",
       "        text-align: right;\n",
       "    }\n",
       "</style>\n",
       "<table border=\"1\" class=\"dataframe\">\n",
       "  <thead>\n",
       "    <tr style=\"text-align: right;\">\n",
       "      <th></th>\n",
       "      <th>App</th>\n",
       "      <th>Word</th>\n",
       "      <th>Frequency</th>\n",
       "    </tr>\n",
       "  </thead>\n",
       "  <tbody>\n",
       "    <tr>\n",
       "      <th>0</th>\n",
       "      <td>10 Best Foods for You</td>\n",
       "      <td>like</td>\n",
       "      <td>7</td>\n",
       "    </tr>\n",
       "    <tr>\n",
       "      <th>1</th>\n",
       "      <td>10 Best Foods for You</td>\n",
       "      <td>eat</td>\n",
       "      <td>6</td>\n",
       "    </tr>\n",
       "    <tr>\n",
       "      <th>2</th>\n",
       "      <td>10 Best Foods for You</td>\n",
       "      <td>delicious</td>\n",
       "      <td>1</td>\n",
       "    </tr>\n",
       "    <tr>\n",
       "      <th>3</th>\n",
       "      <td>10 Best Foods for You</td>\n",
       "      <td>food</td>\n",
       "      <td>12</td>\n",
       "    </tr>\n",
       "    <tr>\n",
       "      <th>4</th>\n",
       "      <td>10 Best Foods for You</td>\n",
       "      <td>i</td>\n",
       "      <td>1</td>\n",
       "    </tr>\n",
       "    <tr>\n",
       "      <th>...</th>\n",
       "      <td>...</td>\n",
       "      <td>...</td>\n",
       "      <td>...</td>\n",
       "    </tr>\n",
       "    <tr>\n",
       "      <th>231142</th>\n",
       "      <td>Housing-Real Estate &amp; Property</td>\n",
       "      <td>know</td>\n",
       "      <td>1</td>\n",
       "    </tr>\n",
       "    <tr>\n",
       "      <th>231143</th>\n",
       "      <td>Housing-Real Estate &amp; Property</td>\n",
       "      <td>unavailable</td>\n",
       "      <td>1</td>\n",
       "    </tr>\n",
       "    <tr>\n",
       "      <th>231144</th>\n",
       "      <td>Housing-Real Estate &amp; Property</td>\n",
       "      <td>would</td>\n",
       "      <td>1</td>\n",
       "    </tr>\n",
       "    <tr>\n",
       "      <th>231145</th>\n",
       "      <td>Housing-Real Estate &amp; Property</td>\n",
       "      <td>keep</td>\n",
       "      <td>1</td>\n",
       "    </tr>\n",
       "    <tr>\n",
       "      <th>231146</th>\n",
       "      <td>Housing-Real Estate &amp; Property</td>\n",
       "      <td>posts</td>\n",
       "      <td>1</td>\n",
       "    </tr>\n",
       "  </tbody>\n",
       "</table>\n",
       "<p>231147 rows × 3 columns</p>\n",
       "</div>"
      ],
      "text/plain": [
       "                                   App         Word  Frequency\n",
       "0                10 Best Foods for You         like          7\n",
       "1                10 Best Foods for You          eat          6\n",
       "2                10 Best Foods for You    delicious          1\n",
       "3                10 Best Foods for You         food         12\n",
       "4                10 Best Foods for You            i          1\n",
       "...                                ...          ...        ...\n",
       "231142  Housing-Real Estate & Property         know          1\n",
       "231143  Housing-Real Estate & Property  unavailable          1\n",
       "231144  Housing-Real Estate & Property        would          1\n",
       "231145  Housing-Real Estate & Property         keep          1\n",
       "231146  Housing-Real Estate & Property        posts          1\n",
       "\n",
       "[231147 rows x 3 columns]"
      ]
     },
     "execution_count": 39,
     "metadata": {},
     "output_type": "execute_result"
    }
   ],
   "source": [
    "word_freq_df"
   ]
  },
  {
   "cell_type": "code",
   "execution_count": 41,
   "id": "f626df30-24bc-4e76-818e-41af9600a7a6",
   "metadata": {},
   "outputs": [],
   "source": [
    "word_freq_df.to_csv(\"word_cloud_data.csv\", index=False)"
   ]
  }
 ],
 "metadata": {
  "kernelspec": {
   "display_name": "Python 3 (ipykernel)",
   "language": "python",
   "name": "python3"
  },
  "language_info": {
   "codemirror_mode": {
    "name": "ipython",
    "version": 3
   },
   "file_extension": ".py",
   "mimetype": "text/x-python",
   "name": "python",
   "nbconvert_exporter": "python",
   "pygments_lexer": "ipython3",
   "version": "3.12.4"
  }
 },
 "nbformat": 4,
 "nbformat_minor": 5
}
